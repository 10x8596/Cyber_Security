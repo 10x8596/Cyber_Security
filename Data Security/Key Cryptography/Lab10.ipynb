{
 "cells": [
  {
   "cell_type": "markdown",
   "metadata": {},
   "source": [
    "<h1 align='center'> COMP2420/COMP6420 - Introduction to Data Management, Analysis and Security</h1>\n",
    "\n",
    "<h2 align='center'> Lab 10 - Security I</h2>\n",
    "\n",
    "*****"
   ]
  },
  {
   "cell_type": "markdown",
   "metadata": {},
   "source": [
    "## Aim\n",
    "\n",
    "Our aims in this lab are:\n",
    "1. Become exposed to various symmetric key cryptography approaches including: Ceasar Cipher, One-Time Pad and DES.\n",
    "2. Understand the RSA asymmetric key cryptography approach and its potential weaknesses.\n",
    "3. Model a key exchange method. In this instance, the Diffie-Hellman algorithm."
   ]
  },
  {
   "cell_type": "markdown",
   "metadata": {},
   "source": [
    "## Learning Outcomes\n",
    "- L10: Explain key security concepts and the use of cryptographic techniques, digital signatures and PKI in security"
   ]
  },
  {
   "cell_type": "markdown",
   "metadata": {},
   "source": [
    "## Preparation\n",
    "\n",
    "Before starting this lab, we suggest you complete the following:\n",
    "- Watch the Security Lectures from this course\n",
    "- Make sure you're familar with the following ideas\n",
    "    - [Symmetric Key Cryptography](https://www.hypr.com/symmetric-key-cryptography/)\n",
    "    - [Asymmetric (Public) Key Cryptography](https://searchsecurity.techtarget.com/definition/asymmetric-cryptography)\n",
    "\n",
    "\n",
    "The following functions/documentation may be useful for this lab:\n",
    "\n",
    "| Function                     | Description |\n",
    "| ---------------------------: | :---------- |\n",
    "| [class definitions](https://docs.python.org/3.7/tutorial/classes.html) | General documentation for class implementations. This is the next evolution above using functions and methods, etc |\n",
    "\n",
    "***"
   ]
  },
  {
   "cell_type": "code",
   "execution_count": 1,
   "metadata": {},
   "outputs": [],
   "source": [
    "# Code Imports|\n",
    "import numpy as np\n",
    "import pandas as pd\n",
    "import random"
   ]
  },
  {
   "cell_type": "markdown",
   "metadata": {},
   "source": [
    "## Topic 1 - **Secret (Symmetric) Key Cryptography**\n",
    "In the first topic, you will be working with symmetric key cryptography methods. A number of these algorithms are well known, such as AES, DES. While this is covered in detail in the lectures, the following graphic should be a good reminder of how symmetric key cryptography works.\n",
    "\n",
    "<img src=\"./img/symmEnc.png\" alt=\"Symm Example\" style=\"width: 400px;\"/>\n",
    "\n",
    "<sub>Source: [Symmetric vs Asymmetric](https://www.ssl2buy.com/wiki/symmetric-vs-asymmetric-encryption-what-are-differences)</sub>\n",
    "\n",
    "Within Symmetric Key Cryptography, there are two major types of [ciphers](https://en.wikipedia.org/wiki/Cipher) that are used: Stream Ciphers and Block Ciphers. For a quick introduction to both, read the [following article](https://www.jscape.com/blog/stream-cipher-vs-block-cipher). The following should jog your memory otherwise:\n",
    "\n",
    "<img src=\"./img/blockandstream.png\" alt=\"blockandstream Example\" style=\"width: 400px;\"/>\n",
    "\n",
    "If you don't understand the above image, you should read the above article and ask your tutor.\n",
    "\n",
    "Lets get started!"
   ]
  },
  {
   "cell_type": "markdown",
   "metadata": {},
   "source": [
    "## Question 1: **Stream Cipher**\n",
    "\n",
    "In Question 1, you will be dealing with some stream ciphers examples. The word 'stream' indicates that characters are processed individually during encryption/decryption stage. In this qustion the inputs will be a string containing <b>ONLY</b> lower-case letters. We have created below the conversion functions for your convenience. For example, a string 'apple' may be converted to a list of numbers [0,15,15,11,4] according to the alphabetical order of the letters."
   ]
  },
  {
   "cell_type": "code",
   "execution_count": 2,
   "metadata": {},
   "outputs": [],
   "source": [
    "# string and number conversion functions\n",
    "def to_number(message):\n",
    "    \"\"\"Convert a string to a list of numbers\"\"\"\n",
    "    return [ord(char) - 97 for char in message]\n",
    "\n",
    "def to_string(nums):\n",
    "    \"\"\"Convert a list of numbers to a string\"\"\"\n",
    "    return ''.join([chr(num +97) for num in nums])\n"
   ]
  },
  {
   "cell_type": "markdown",
   "metadata": {},
   "source": [
    "### Q1.1: **Ceasar Cipher**\n",
    "\n",
    "Let's start with something simple. Ceasar Cipher is the most simple and well know encryption method in the cryptography world, and you implemented this in an early lab. To encrypt a given message, Ceasar Cipher simply applies a fixed shifts on all letters in the message. In the next code block, we want you to implement this simple encryption method in a class format. This is designed to introduce you to python classes, and familarise yourself with the Ceaser Cipher system. You need to complete the `encrypt()` and `decrypt()` functions. Suppose your message is `attackatdawn` and your selected key is `c`, your encrypted message should be `cvvcemcvfcyp`, which is derived by shifting each letter in the original message by 2<sup>*</sup> letters forward.\n",
    "\n",
    "<sup>*</sup> c is ordered as 2 in the alphabet"
   ]
  },
  {
   "cell_type": "code",
   "execution_count": 3,
   "metadata": {},
   "outputs": [],
   "source": [
    "# Code here\n",
    "class CeasarCipher:\n",
    "    def __init__(self, key):\n",
    "        self.key = key\n",
    "    \n",
    "    def set_key(self, key):\n",
    "        self.key = key\n",
    "        \n",
    "    def encrypt(self, message):\n",
    "        \"\"\"Encrypt the message with the given key.\"\"\"\n",
    "        assert message.isalpha(), 'Message can only contain letters.'\n",
    "        # TODO: encrypt the given message with key and return the encrypted message as a string.\n",
    "        encryption = to_number(message)\n",
    "        numkey = ord(key)-97\n",
    "        encryption = [i + numkey for i in encryption]\n",
    "        encryption = to_string(encryption)\n",
    "        return encryption\n",
    "\n",
    "    def decrypt(self, message):\n",
    "        \"\"\"Decrypt the message with the given key\"\"\"\n",
    "        assert message.isalpha(), 'Message can only contain lowletters.'\n",
    "        # TODO: decrypt the given message with key and return the decrypted message as a string.\n",
    "        decryption = to_number(message)\n",
    "        numkey = ord(key)-97\n",
    "        decryption = [i - numkey for i in decryption] \n",
    "        decryption = to_string(decryption)\n",
    "        print(decryption)\n",
    "        return decryption "
   ]
  },
  {
   "cell_type": "markdown",
   "metadata": {},
   "source": [
    "Once finished, run the below code block to see your results!"
   ]
  },
  {
   "cell_type": "code",
   "execution_count": 4,
   "metadata": {},
   "outputs": [
    {
     "name": "stdout",
     "output_type": "stream",
     "text": [
      "cvvcemcvfcyp\n",
      "attackatdawn\n"
     ]
    }
   ],
   "source": [
    "# Test cases\n",
    "message = 'attackatdawn'\n",
    "key = 'c'\n",
    "ceasar_cipher = CeasarCipher(key)\n",
    "print (ceasar_cipher.encrypt(message))\n",
    "assert message == ceasar_cipher.decrypt(ceasar_cipher.encrypt(message))"
   ]
  },
  {
   "cell_type": "markdown",
   "metadata": {},
   "source": [
    "### Q1.2: **One-Time Pad**\n",
    "[One-time Pad](https://www.cryptomuseum.com/crypto/otp/index.htm) is believed to be the safest encryption method available. A one-time pad is uncrackable ([Terms and Conditions apply](https://medium.com/@canuteson/cracking-a-one-time-pad-a716a804d5bd)<sup>*</sup>). In the one-time pad encryption method , we need a key that is as long as the original message and each character in the original message is encrypted according to the character at the same position of the key. For example, for the same message 'attackatdawn' and given key 'sdifbsnoqwef', the first letter 'a' becomes 's' ('a' + 's' -> 's'), the second letter 't' becomes 'w' ('t' + 'd' -> 'w'), and so on. Similar to Question 1.1, complete encrypt() and decrypt() methods for our OneTimePad class.\n",
    "\n",
    "<sup>*</sup> Talk to your tutor further about this if you are interested. Long story short, only use it once. (hence \"One-Time\")"
   ]
  },
  {
   "cell_type": "code",
   "execution_count": 5,
   "metadata": {},
   "outputs": [],
   "source": [
    "# More code here\n",
    "class OneTimePad:\n",
    "    def __init__(self, key):\n",
    "        self.key = key\n",
    "    \n",
    "    def set_key(self, key):\n",
    "        self.key = key\n",
    "        \n",
    "    def encrypt(self, message):\n",
    "        \"\"\"Encrypt the message with the given key\"\"\"\n",
    "        assert message.isalpha(), 'Message can only contain letters.' \n",
    "        # TODO: encrypt the given message with key and return the encrypted message as a string.\n",
    "        added = [m+k  for m, k in zip(to_number(message), to_number(key))]\n",
    "        return to_string( [num%26 for num in added])\n",
    "\n",
    "    def decrypt(self, message):\n",
    "        \"\"\"Decrypt the message with the given key\"\"\"\n",
    "        assert message.isalpha(), 'Message can only contain lowletters.'\n",
    "        # TODO: decrypt the given message with key and return the decrypted message as a string.\n",
    "        subtracted = [m-k  for m, k in zip(to_number(message), to_number(key))]\n",
    "        return to_string( [num%26 for num in subtracted])"
   ]
  },
  {
   "cell_type": "markdown",
   "metadata": {},
   "source": [
    "Once finished, run the below code block to see your results!"
   ]
  },
  {
   "cell_type": "code",
   "execution_count": 6,
   "metadata": {},
   "outputs": [
    {
     "name": "stdout",
     "output_type": "stream",
     "text": [
      "swbfdcnhtwas\n"
     ]
    }
   ],
   "source": [
    "message = 'attackatdawn'\n",
    "key = 'sdifbsnoqwef'\n",
    "one_time_pad = OneTimePad(key)\n",
    "print (one_time_pad.encrypt(message))\n",
    "assert message == one_time_pad.decrypt(one_time_pad.encrypt(message))"
   ]
  },
  {
   "cell_type": "markdown",
   "metadata": {},
   "source": [
    "## Question 2: **Secret (Symmetric) Key Cryptography -  Block Cipher**\n",
    "\n",
    "In Question 2, you will be dealing with some block cipher examples. If you're unsure what a block cipher is, go back to the introduction of Topic 1. The word 'block' indicates that blocks of bits are processed during encryption/decryption stage."
   ]
  },
  {
   "cell_type": "markdown",
   "metadata": {},
   "source": [
    "### Q2.1: **Simplified DES**\n",
    "This question asks you to implement a simplified DES algorithm. DES is not (and [should not](https://www.freeswan.org/freeswan_trees/freeswan-1.5/doc/DES.html) be) used in day to day encrpytion, however since it was one of the first block cipher algorithms and unbreakable for it's time, it is a notable example. In this question, you get the lucky opportunity to implement the DES algorithm. Notice the small keys, which makes it very easy to crack.\n",
    "*****\n",
    "\n",
    "#### Key Generation: ####\n",
    "\n",
    "Step 1: The first step is to select a key 10-bits, which is to be shared between sender and receiver. For example, we select 1010000010 in our case.\n",
    "<b>Note: DES use 56-bit key.</b>\n",
    "\n",
    "Step 2: Do a permutation by putting this key into P10 Table and permute the bits. Permutation here means reordering bits with given rules. P10 table is simply a 10-bit long number vector, which indicates the i-th bit in the source sequence, should be changed to the P10[i]-th bit in the target sequence. For example, given P10 table [3, 5, 2, 7, 4, 10, 1, 9, 8, 6], we know the 4-th bit in the target sequence should be the 7-th bit (which is 0) in the source sequence since P10[4] = 7. Our example key 1010000010 will be permutated to 1000001100 with the given P10 table. Let's call it p10-key.\n",
    "\n",
    "Step 3: Divide the p10-key into two parts from the middle, and we will get left (10000) and right (01100) keys. We will generate two 8-bits keys <b>(DES use 48-bit subkeys)</b> for two-round encryption. <b>(DES has 16 rounds of encryption, thus, 16 sub keys.)</b>\n",
    "\n",
    "Step 4: To generate first key, we do a 1-bit round shift on both left and right key and concatenate the left and right keys and do a P8 permutation. P8 permutation is similar to P10, except for using a 8-bit long number vector so we will get a 8-bit sequence as result. In our example, by doing the round bit shift we will get 00001 and **11000** (Note: keep these two keys since we will need them to generate the second key). Concatenating the two parts results in **0000111000**. After permutating with P8 table [6, 3, 7, 4, 8, 5, 10, 9] we will get first key k1 = 10100100.\n",
    "\n",
    "Step 5: To generate second key, we do the similar thing as described in Step 4. The difference is, this time we do a 2-bit round shift on the resulting left and right keys from Step 4. Thus, we do 2-bit round shift of 00001 and **11000** and get 00100 (left) and **00011** (right). Then concatenate and permutated in the same way described in Step 4. Our second key k2 = 01000011.\n",
    "\n",
    "#### Encryption:  ####\n",
    "\n",
    "Step 1: Suppose our source text is 01110010 <b>(The source text is 8 bits in SDES and 64 bits in DES)</b>. Permute the source text with IP (initial permutation) table [2, 6, 3, 1, 4, 8, 5, 7]. The output is 10101001. Then we break the output from the middle and get left part (1010) and right part (1001). \n",
    "\n",
    "Step2: Then we will use a complex function f (including permutation and substitution operations) which tranform the output from initial permutation to another 8-bit sequence.\n",
    "1. permute the right part (1001) with Expand Table E [4, 1, 2, 3, 2, 3, 4, 1]. This table expands the 4-bit right part into a 8-bit sequence **11000011**. \n",
    "2. do a bit-wise XOR with our first key k1 (10100100) and get **01100111**.\n",
    "3. Then, split the output into two equal parts from the middle and get left (**0110**) and right (**0111**).\n",
    "4. Put the left and right part into S1 and S2 boxes (S indicates substitution) and combine the result. Substitution returns a 4-bit sequence 1011 \n",
    "5. Permute the 4-bit sequence with P4 table and get 0111\n",
    "6. Do XOR this 4-bit sequence (0111) with the left part of initial permutation (in Step 1), which is 1010. 0111 XOR 1010 = 1101.\n",
    "7. Combine the result from last step with the right part of initial permutation (in Step 1), which is 1001. This will result in 11011001\n",
    "\n",
    "Step3: Split the result from Step2, swap right and left part and combine again. We will get 10011100. Then, we use function f again on this swapped sequence (which means, repeat Step 2). The only difference is we will use second key k2 for XOR operation in Step2.2. We will get 11101101.\n",
    "\n",
    "Step4: Do a Initial Permutation (IP) Inverse on result from Step3 (11101101) and we will get the final result  **01110111**.\n",
    "\n",
    "##### Decryption: ####\n",
    "\n",
    "Decryption is very similar to encryption. To decrypt a message, we only need to swap the order of subkeys, which means using second key in Step2 and first key in Step 3."
   ]
  },
  {
   "cell_type": "code",
   "execution_count": 13,
   "metadata": {},
   "outputs": [],
   "source": [
    "# helper functions and pre-defiend permutation/substitutio tables\n",
    "def permutation(perm, key):\n",
    "        \"\"\"Permutate key with the specified permutation table\"\"\"\n",
    "        permutated_key = \"\"\n",
    "        for i in perm:\n",
    "            permutated_key += key[i-1]\n",
    "        return permutated_key\n",
    "\n",
    "def Sbox(input, sbox):\n",
    "        \"\"\"Substitute key with the specified S-Box\"\"\"\n",
    "        row = int(input[0] + input[3], 2)\n",
    "        column = int(input[1] + input[2], 2)\n",
    "        return bin(sbox[row][column])[2:].zfill(2)\n",
    "\n",
    "    # pre-defined permutation and substitution tables.\n",
    "P10 = (3, 5, 2, 7, 4, 10, 1, 9, 8, 6)\n",
    "P8 = (6, 3, 7, 4, 8, 5, 10, 9)\n",
    "P4 = (2, 4, 3, 1)\n",
    "\n",
    "IP = (2, 6, 3, 1, 4, 8, 5, 7)\n",
    "IPi = (4, 1, 3, 5, 7, 2, 8, 6)\n",
    "E = (4, 1, 2, 3, 2, 3, 4, 1)\n",
    "\n",
    "S0 = [\n",
    "            [1, 0, 3, 2],\n",
    "            [3, 2, 1, 0],\n",
    "            [0, 2, 1, 3],\n",
    "            [3, 1, 3, 2]\n",
    "         ]\n",
    "\n",
    "S1 = [\n",
    "            [0, 1, 2, 3],\n",
    "            [2, 0, 1, 3],\n",
    "            [3, 0, 1, 0],\n",
    "            [2, 1, 0, 3]\n",
    "         ]\n",
    "class SDES:\n",
    "    # source :https://github.com/GeoffreyVDB/SDES-decryption/blob/master/SDES.py\n",
    "    \n",
    "    def __init__(self, key):\n",
    "        self.key = key\n",
    "        self.first_key,self.second_key = self.generate_subkeys()\n",
    "        \n",
    "\n",
    "\n",
    "    def f(self, first_half, second_half, key):\n",
    "        \"\"\"A complex funtion to transform message\"\"\"\n",
    "        expanded_cipher = permutation(E, second_half)\n",
    "        #print ('after expansion:',expanded_cipher)\n",
    "        xor_cipher = bin( int(expanded_cipher, 2) ^ int(key, 2) )[2:].zfill(8)\n",
    "        #print ('after xor with key:', xor_cipher)\n",
    "        left_xor_cipher = xor_cipher[:4]\n",
    "        right_xor_cipher = xor_cipher[4:]\n",
    "        left_sbox_cipher = Sbox(left_xor_cipher, S0)\n",
    "        right_sbox_cipher = Sbox(right_xor_cipher, S1)\n",
    "        #print ('left and right after s-box:', left_sbox_cipher,right_sbox_cipher)\n",
    "        p4_permutated = permutation(P4, left_sbox_cipher + right_sbox_cipher)\n",
    "        #print ('after p4 permutation', p4_permutated)\n",
    "        left = int(first_half, 2) ^ int(p4_permutated, 2)\n",
    "        #print (\"Fk: \" + bin(left)[2:].zfill(4) + second_half)\n",
    "        return bin(left)[2:].zfill(4), second_half\n",
    "\n",
    "\n",
    "\n",
    "    def generate_first_key(self, left_key, right_key):\n",
    "        \"\"\"Generate first key\"\"\"\n",
    "        # TODO: 1-bit round shift on both left and right keys\n",
    "        left_key_rot = left_key[1:] + left_key[:1]\n",
    "        right_key_rot = right_key[1:] + right_key[:1]\n",
    "\n",
    "        # TODO: concatenate shifted left and right parts\n",
    "        key_rot = left_key_rot + right_key_rot\n",
    "\n",
    "        # TODO: do p8 permutation on the concatenated key and return the result\n",
    "        return permutation(P8, key_rot)\n",
    "\n",
    "    def generate_second_key(self, left_key, right_key):\n",
    "        \"\"\"Generate Second key\"\"\"\n",
    "        # TODO: 2-bit round shift on both left and right keys\n",
    "        left_key_rot = left_key[3:] + left_key[:3]\n",
    "        right_key_rot = right_key[3:] + right_key[:3]\n",
    "\n",
    "        # TODO: concatenate shifted left and right parts\n",
    "        key_rot = left_key_rot + right_key_rot\n",
    "\n",
    "        # TODO: do p8 permutation on the concatenated key and return the result\n",
    "        return permutation(P8, key_rot)\n",
    "\n",
    "\n",
    "    def generate_subkeys(self):\n",
    "        \"\"\"Generate two subkeys with the given key\"\"\"\n",
    "        # TODO: do p10 permutation on the given key.\n",
    "        p10key = permutation(P10, self.key)\n",
    "\n",
    "        # TODO: seperate p10 permutated key into two parts: left and right. \n",
    "        left = p10key[:int(len(p10key)/2)]\n",
    "        right = p10key[int(len(p10key)/2):]\n",
    "\n",
    "        # Then generate first and second subkeys with generate_first(second)_key method.\n",
    "        first_key = self.generate_first_key(left, right)\n",
    "        second_key = self.generate_second_key(left, right)\n",
    "        print (\"[*] First key: \" + first_key)\n",
    "        print (\"[*] Second key: \" + second_key)\n",
    "        return first_key, second_key\n",
    "\n",
    "    def encrypt(self, message):\n",
    "        \"\"\"Encrypt the given message with two subkeys\"\"\"\n",
    "        # TODO : do initial permutation with IP table.\n",
    "        permutated_cipher = permutation(IP, message)\n",
    "\n",
    "        # TODO: separate the permutated message into two parts.\n",
    "        first_half_cipher = permutated_cipher[:int(len(permutated_cipher)/2)]\n",
    "        second_half_cipher = permutated_cipher[int(len(permutated_cipher)/2):]\n",
    "\n",
    "        # TODO: do first round processing with provided f function and first subkey\n",
    "        left, right = self.f(first_half_cipher, second_half_cipher, self.first_key)\n",
    "\n",
    "        # TODO: do second round processing with provided f function and second subkey\n",
    "        # Hint: do not forget to switch left and right parts!\n",
    "        left, right = self.f(right, left, self.second_key ) # switch left and right!\n",
    "\n",
    "        # TODO: do inverse permutation with IPi table and return the encrypted message\n",
    "        encrypted = permutation(IPi, left + right)\n",
    "        return encrypted\n",
    "\n",
    "    def decrypt(self, message):\n",
    "        \"\"\"Decrypt the given message with two subkeys\"\"\"\n",
    "        # TODO : do initial permutation with IP table.\n",
    "        permutated_cipher_dec = permutation(IP, message)\n",
    "\n",
    "        # TODO: separate the permutated message into two parts.\n",
    "        first_half_cipher_dec = permutated_cipher_dec[:int(len(permutated_cipher_dec)/2)]\n",
    "        second_half_cipher_dec = permutated_cipher_dec[int(len(permutated_cipher_dec)/2):]\n",
    "\n",
    "        # TODO: do first round processing with provided f function and first subkey\n",
    "        # Hint use second key in first round.\n",
    "        left, right = self.f(first_half_cipher_dec, second_half_cipher_dec, self.second_key)\n",
    "\n",
    "        # TODO: do second round processing with provided f function and second subkey\n",
    "        # Hint: do not forget to switch left and right parts!\n",
    "        left, right = self.f(right, left, self.first_key ) # switch left and right!\n",
    "\n",
    "        # TODO: do inverse permutation with IPi table and return the decrypted message\n",
    "        decrypted = permutation(IPi, left + right)\n",
    "        return decrypted\n",
    "\n",
    "\n"
   ]
  },
  {
   "cell_type": "markdown",
   "metadata": {},
   "source": [
    "Once finished, run the below code blocks to see your results!"
   ]
  },
  {
   "cell_type": "code",
   "execution_count": 14,
   "metadata": {},
   "outputs": [
    {
     "name": "stdout",
     "output_type": "stream",
     "text": [
      "[*] First key: 10100100\n",
      "[*] Second key: 01000011\n",
      "Original message:  00000000\n",
      "Ecnrypted message:  11001110\n",
      "Decrypted message: 00000000\n"
     ]
    }
   ],
   "source": [
    "key = '1010000010'\n",
    "sdes = SDES(key)\n",
    "message = \"00000000\"\n",
    "print ('Original message: ', message)\n",
    "encrypted_message = sdes.encrypt(message)\n",
    "print ('Ecnrypted message: ', encrypted_message)\n",
    "decrypted_message = sdes.decrypt(encrypted_message)\n",
    "print (\"Decrypted message: \" + decrypted_message)"
   ]
  },
  {
   "cell_type": "markdown",
   "metadata": {},
   "source": [
    "Run below blocks to see the magic on strings."
   ]
  },
  {
   "cell_type": "code",
   "execution_count": 15,
   "metadata": {},
   "outputs": [
    {
     "name": "stdout",
     "output_type": "stream",
     "text": [
      "[*] First key: 10100100\n",
      "[*] Second key: 01000011\n",
      "Encrypted text is:  000101011000111010001110100111011110100001101010011000101001110110001110011000101011011110011101101001100101101000101001\n",
      "Decrypted text is:  Attack at dawn!\n"
     ]
    }
   ],
   "source": [
    "import numpy as np\n",
    "class SDESCipher():\n",
    "    def __init__(self, sdes):\n",
    "        self.sdes=sdes\n",
    "        \n",
    "    def text_to_bitstring(self,text):\n",
    "        bits = bin(int.from_bytes(text.encode(), 'big'))[2:]\n",
    "        return ''.join(list(map(str, bits.zfill(8 * ((len(bits) + 7) // 8)))))\n",
    "\n",
    "    def text_from_bitstring(self, bits):\n",
    "        n = int(bits, 2)\n",
    "        return n.to_bytes((n.bit_length() + 7) // 8, 'big').decode()\n",
    "\n",
    "    def encrypt(self, text):\n",
    "        bitstring=self.text_to_bitstring(text)\n",
    "        splited = np.array_split(list(bitstring), int(len(bitstring)/8))\n",
    "        encrypted = ''.join([self.sdes.encrypt(bitlist)for bitlist in splited])\n",
    "        return encrypted\n",
    "\n",
    "    def decrypt(self, bitstring):\n",
    "        splited = np.array_split(list(bitstring), int(len(bitstring)/8))\n",
    "        decrypted = [self.text_from_bitstring(self.sdes.decrypt(bitlist))for bitlist in splited]\n",
    "        return ''.join(decrypted)\n",
    "        \n",
    "key = '1010000010'\n",
    "sdes = SDES(key)\n",
    "sdescipher = SDESCipher(sdes)\n",
    "message = 'Attack at dawn!'\n",
    "encrypted = sdescipher.encrypt(message)\n",
    "print ('Encrypted text is: ', encrypted)\n",
    "decrypted = sdescipher.decrypt(encrypted)\n",
    "print ('Decrypted text is: ', decrypted)"
   ]
  },
  {
   "cell_type": "markdown",
   "metadata": {},
   "source": [
    "*****\n",
    "## Topic 2 - Asymmetric Key Cryptography \n",
    "In the second topic, you will be working with an asymmetric (public) key cryptography method. RSA, TLS/SSL, and homomorphic encrpytion (such as [Microsoft's SEAL](https://github.com/microsoft/SEAL)) protocols make use of public key cryptography architecture. Once again, this is covered in detail in the lectures, however the following graphic should be a good reminder of how asymmetric key cryptography works.\n",
    "\n",
    "<img src=\"./img/asymmEnc.png\" alt=\"Asymm Example\" style=\"width: 400px;\"/>\n",
    "\n",
    "<sub>Source: [Symmetric vs Asymmetric](https://www.ssl2buy.com/wiki/symmetric-vs-asymmetric-encryption-what-are-differences)</sub>\n",
    "\n",
    "While multiple methods as mentioned above, we will only be focusing on RSA in this lab to showcase how the public-key/private-key system works.\n",
    "\n",
    "Lets get started!"
   ]
  },
  {
   "cell_type": "markdown",
   "metadata": {},
   "source": [
    "## Question 3: **Public (Asymmetric) Key Cryptography -  RSA**\n",
    "In this question, you will be implementing a simplified RSA algorithm. RSA has been available for over 25 years, to varying key lengths. The algorithm is designed such that varying keys can be used, and larger keys generally mean larger security (as the factorisation becomes more computationally intensive). For many years, RSA Laboratories ran a competition to determine whether people can factorise (read: break) the RSA algorithm at varying key lengths. Although the competition is now withdrawn, many loyal researchers still continue to determine new and faster ways to break the algorithm. Most recently, [RSA-240 (a 795-bit key) was broken](https://www.johndcook.com/blog/2019/12/03/new-rsa-factoring/). At this stage, while RSA-1024 is currently considered the most popular, RSA-2048 or RSA-4096 are considered safe (for now). \n",
    "\n",
    "Side note: When people discuss quantum computing breaking encryption, they are referring to RSA. [Further Reading](https://www.technologyreview.com/s/613596/how-a-quantum-computer-could-break-2048-bit-rsa-encryption-in-8-hours/).\n",
    "\n",
    "*****"
   ]
  },
  {
   "cell_type": "markdown",
   "metadata": {},
   "source": [
    "### Q3.1: **Implementing RSA**\n",
    "Recall the foundations of RSA algorithm:\n",
    "1. Choose two large prime numbers `p` and `q`, compute `N = p * q`. Any message to be encrypted cannot be longer than `N`.\n",
    "2. Calculate `r = (p-1)(q-1)`\n",
    "3. Choose a random number `e`, such that `e < N` and `e` does not share any common factors with `r`.\n",
    "4. Cauculate number `d`, such that `e*d mod(r) = 1`. `d` is guaranteed to exist.\n",
    "5. Generate `public key = (N,e)` and `private key (N,d)`\n",
    "6. Encryption: `c = m^e mod N`, where `m` is the original message and `c` is the encrypted message.\n",
    "7. Decryption: `m = c^d mod N`, where `m` is the decrypted message and `c` is the encrypted message.\n",
    "\n",
    "In this question, complete the generate_key_pair(), encrypt() and decrypt() functions to implement the simple RSA algorithm. \n",
    "\n",
    "Hint: You can use the provided are_relatively_prime() function to determine if two numbers share common factors."
   ]
  },
  {
   "cell_type": "code",
   "execution_count": 16,
   "metadata": {},
   "outputs": [],
   "source": [
    "\n",
    "def are_relatively_prime(a, b):\n",
    "    \"\"\"Return ``True`` if ``a`` and ``b`` are two relatively prime numbers.\n",
    "\n",
    "    Two numbers are relatively prime if they share no common factors,\n",
    "    i.e. there is no integer (except 1) that divides both.\n",
    "    \"\"\"\n",
    "    for n in range(2, min(a, b) + 1):\n",
    "        if a % n == b % n == 0:\n",
    "            return False\n",
    "    return True\n",
    "\n",
    "def generate_key_pair(p,q):\n",
    "    \n",
    "    # TODO: Calculate N = p*q and r = (p-1)(q-1)\n",
    "    N = p*q \n",
    "    r = (p-1)*(q-1) \n",
    "    \n",
    "    # TODO: choose a random number e such that e < N and e and r share no common factors.\n",
    "    for candidate in range(3, r, 2):\n",
    "        if are_relatively_prime(candidate, r):\n",
    "            e = candidate  # not random in this implementation\n",
    "            break\n",
    "            \n",
    "    # TODO:calculate number d, such that e*d mod (r) = 1\n",
    "    d = 0\n",
    "    for candidate in range(3, r, 2):\n",
    "        if candidate * e % r == 1:\n",
    "            d = candidate\n",
    "            break     \n",
    "    \n",
    "    # return public key and private key pairs.\n",
    "    public_key = (N,e)\n",
    "    private_key = (N,d)\n",
    "    return public_key, private_key\n",
    "\n",
    "def encrypt(public_key, message):\n",
    "    # TODO: encrypt the given message with the public key \n",
    "    return  pow(message,public_key[1]) % public_key[0]\n",
    "\n",
    "def decrypt(private_key, message):\n",
    "    # TODO: retrieve the original message from the encrypted message with your private key \n",
    "    return  pow(message,private_key[1]) % private_key[0]"
   ]
  },
  {
   "cell_type": "markdown",
   "metadata": {},
   "source": [
    "Once finished, run the below code block to see your results!"
   ]
  },
  {
   "cell_type": "code",
   "execution_count": 17,
   "metadata": {},
   "outputs": [
    {
     "name": "stdout",
     "output_type": "stream",
     "text": [
      "public key is (55, 3), private key is (55, 27)\n",
      "message: 46\n",
      "encrypted message: 41\n",
      "decrypted message: 46\n"
     ]
    }
   ],
   "source": [
    "# test cases\n",
    "p = 5\n",
    "q = 11\n",
    "msg = random.randint(1,p*q)\n",
    "public_key, private_key = generate_key_pair(5,11)\n",
    "print ('public key is {}, private key is {}'.format(public_key, private_key) )\n",
    "print ('message: {}'.format(msg))\n",
    "print ('encrypted message: {}'.format(encrypt(public_key,msg)))\n",
    "print ('decrypted message: {}'.format(decrypt(private_key,encrypt(public_key,msg) )))"
   ]
  },
  {
   "cell_type": "markdown",
   "metadata": {},
   "source": [
    "### Q1.2: **Cracking RSA**\n",
    "Back to what we discussed in the topic piece before.\n",
    "\n",
    "Is RSA 100% safe? The answer is obviously not. However, do you know how to crack the algorithm even if you know its crackable? Let's move the first step towards being a cryptography pro. The problem can be described as follow:\n",
    "\n",
    "Given the public key pair (N,e) and the encrypted message c, can you find the original message m?\n",
    "\n",
    "To solve this problem, we still need to work from the fundamental math. \n",
    "- We know that large number `N` is the product of two primes. \n",
    "- If you can factorize `N`, that means you can get `p` and `q` such that `p*q = N`\n",
    "- you can also know `r` since `r = (p-1)(q-1)`. \n",
    "- With the same equation we used to calculate `d` in our RSA implementation, that is, `e*d mod(r) = 1`, we can retrieve `d` and form the `private key pair(N, d)`. \n",
    "- The last and easist step will be decrypt the message `c` with our fresh private key.  \n",
    "\n",
    "To verify our plan, implement crack_rsa() in the below code block. \n",
    "\n",
    "Hint: Feel free to use provided factorization() function for finding the factors of a number!"
   ]
  },
  {
   "cell_type": "code",
   "execution_count": 18,
   "metadata": {},
   "outputs": [],
   "source": [
    "def factorization(num):\n",
    "    print ('factorizing given number...')\n",
    "    factor = []\n",
    "    while num > 1:\n",
    "        for i in range(num - 1):\n",
    "            k = i + 2\n",
    "            if num % k == 0:\n",
    "                factor.append(k)\n",
    "                num = int(num / k)\n",
    "                break\n",
    "    return factor\n",
    "\n",
    "\n",
    "def crack_rsa(encrypted_message, public_key):\n",
    "    # TODO: find the factors of the given prime number N.\n",
    "    factors = factorization(public_key[0])\n",
    "    e = public_key[1]\n",
    "    # TODO: calculate r with the result of factorization\n",
    "    r = (factors[0]-1)*(factors[1]-1)\n",
    "    # TODO: calculate d with e*d mod(r) = 1\n",
    "    for cand in range(3, r, 2):\n",
    "        if cand * e % r == 1:\n",
    "            d = cand\n",
    "            break  \n",
    "    # TODO:decrypt the given message with private key pair (N, d)\n",
    "    decrypted_message = decrypt((public_key[0],d),encrypted)\n",
    "    return decrypted_message\n",
    "    \n",
    "        "
   ]
  },
  {
   "cell_type": "markdown",
   "metadata": {},
   "source": [
    "Once finished, run the below code block to see your results!"
   ]
  },
  {
   "cell_type": "code",
   "execution_count": 20,
   "metadata": {},
   "outputs": [
    {
     "name": "stdout",
     "output_type": "stream",
     "text": [
      "You know: encrypted message = 66808, public key = (391649, 5), can you get the original message?\n",
      "factorizing given number...\n",
      "You found the original message 20 !!!\n"
     ]
    }
   ],
   "source": [
    "# test cases\n",
    "def get_primes(start, stop):\n",
    "    \"\"\"Return a list of prime numbers in ``range(start, stop)``.\"\"\"\n",
    "    if start >= stop:\n",
    "        return []\n",
    "\n",
    "    primes = [2]\n",
    "\n",
    "    for n in range(3, stop + 1, 2):\n",
    "        for p in primes:\n",
    "            if n % p == 0:\n",
    "                break\n",
    "        else:\n",
    "            primes.append(n)\n",
    "\n",
    "    while primes and primes[0] < start:\n",
    "        del primes[0]\n",
    "\n",
    "    return primes\n",
    "\n",
    "primes_candidates = get_primes(100,999)\n",
    "p = random.choice(primes_candidates)\n",
    "q = random.choice(primes_candidates)\n",
    "public_key, private_key = generate_key_pair(p,q)\n",
    "message = random.randint(0,100)\n",
    "encrypted = encrypt(public_key,message)\n",
    "print ('You know: encrypted message = {}, public key = {}, can you get the original message?'.format(encrypted, public_key))\n",
    "\n",
    "decrypted_message = crack_rsa(encrypted, public_key)\n",
    "\n",
    "if decrypted_message == message:\n",
    "    print ('You found the original message {} !!!'.format(message))\n",
    "else:\n",
    "    print ('You never gonna know what I said!' )"
   ]
  },
  {
   "cell_type": "markdown",
   "metadata": {},
   "source": [
    "*****\n",
    "## Topic 3 - Key Exchanges\n",
    "To finish off, we will be looking at the Diffie-Hellman Key Exchange as an example of Key Exchange algorithms. Recall a key exchange algorithm is required to securely communicate a secret key between two parties. This is used in Symmetric Key Cryptography, as the same key is required to encrypt and decrypt data. With Asymmetric Key Cryptography now so popular, key exchanges are now less common due to smaller uses of symmetric keys, although they are still used in some cases. \n",
    "\n",
    "So how do you transfer a key? Rather than posting a USB with the key, or transmitting the key over an unencrypted connection, you need a way to determine a secure connection to then transmit information. That is how the Diffie-Hellman Key Exchange became so popular.\n",
    "\n",
    "Enough history, lets implement it."
   ]
  },
  {
   "cell_type": "markdown",
   "metadata": {},
   "source": [
    "## Question 4: **Diffie-Hellman Key Exchange**\n",
    "Your task here is to complete the below code in the class to allow a person to interact in a key exchange. Recall the key exchange method: \n",
    "\n",
    "![Diffee-Hellman Example](./img/diffieHellman.png)\n",
    "\n",
    "Complete the class and example to enact the key exchange."
   ]
  },
  {
   "cell_type": "code",
   "execution_count": 21,
   "metadata": {},
   "outputs": [],
   "source": [
    "\n",
    "class Person:\n",
    "    def __init__(self,p,g):\n",
    "        self.p = p\n",
    "        self.g = g\n",
    "        self.my_secrete_number = random.randint(1,10)\n",
    "        self.others_secrete_number = 0\n",
    "        \n",
    "    def tell(self, person):\n",
    "        person.others_secrete_number = self.compute_number_to_share()\n",
    "    \n",
    "    def compute_number_to_share(self):\n",
    "        # TODO: calculate the number to share, as defined by A in the above image\n",
    "        return pow(self.g, self.my_secrete_number) % self.p\n",
    "    \n",
    "    def get_common_key(self):\n",
    "        # TODO: calculate the value K as defined in the above image\n",
    "        return pow(self.others_secrete_number, self.my_secrete_number) % self.p\n",
    "         "
   ]
  },
  {
   "cell_type": "code",
   "execution_count": 22,
   "metadata": {},
   "outputs": [
    {
     "name": "stdout",
     "output_type": "stream",
     "text": [
      "Alice's key is: 4\n",
      "Bob's key is: 4\n"
     ]
    }
   ],
   "source": [
    "prime_number = 23\n",
    "generator = 11\n",
    "\n",
    "Alice = Person(prime_number,generator)\n",
    "Bob = Person(prime_number,generator)\n",
    "\n",
    "Alice.tell(Bob)\n",
    "Bob.tell(Alice)\n",
    "\n",
    "print(\"Alice's key is: {}\".format(Alice.get_common_key()))\n",
    "print(\"Bob's key is: {}\".format(Bob.get_common_key()))"
   ]
  },
  {
   "cell_type": "markdown",
   "metadata": {},
   "source": [
    "*****\n",
    "\n",
    "## Homework & Extension Questions\n",
    "You've gotten this far, so additional questions for this week. Finish your assignments."
   ]
  },
  {
   "cell_type": "markdown",
   "metadata": {},
   "source": [
    "*****\n",
    "## Resources\n",
    "All the resources you need have been linked in the particular topics, so find the hyperlinks and talk to your tutors."
   ]
  }
 ],
 "metadata": {
  "kernelspec": {
   "display_name": "Python 3 (ipykernel)",
   "language": "python",
   "name": "python3"
  },
  "language_info": {
   "codemirror_mode": {
    "name": "ipython",
    "version": 3
   },
   "file_extension": ".py",
   "mimetype": "text/x-python",
   "name": "python",
   "nbconvert_exporter": "python",
   "pygments_lexer": "ipython3",
   "version": "3.7.11"
  }
 },
 "nbformat": 4,
 "nbformat_minor": 4
}
