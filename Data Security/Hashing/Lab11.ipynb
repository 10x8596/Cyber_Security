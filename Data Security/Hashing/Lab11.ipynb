{
 "cells": [
  {
   "cell_type": "markdown",
   "metadata": {},
   "source": [
    "<h1 align='center'> COMP2420/COMP6420 - Introduction to Data Management, Analysis and Security</h1>\n",
    "\n",
    "<h2 align='center'> Lab 11 - Security II</h2>\n",
    "\n",
    "*****"
   ]
  },
  {
   "cell_type": "markdown",
   "metadata": {},
   "source": [
    "## Aim\n",
    "\n",
    "Our aim in this lab is the following:\n",
    "- Become experienced with hash functions, their uses and weaknesses\n",
    "- Understand the use of Digital Signatures"
   ]
  },
  {
   "cell_type": "markdown",
   "metadata": {},
   "source": [
    "## Learning Outcomes\n",
    "- L10: Explain key security concepts and the use of cryptographic techniques, digital signatures and PKI in security\n"
   ]
  },
  {
   "cell_type": "markdown",
   "metadata": {},
   "source": [
    "## Preparation\n",
    "\n",
    "\n",
    "Before starting this lab, we suggest you complete the following:\n",
    "- Finish watching the lectures on security\n",
    "- Read the [following article](https://coindoo.com/how-does-a-hashing-algorithm-work/) on hashing functions (with the added information about how it is used in blockchain technologies!)\n"
   ]
  },
  {
   "cell_type": "code",
   "execution_count": 4,
   "metadata": {},
   "outputs": [],
   "source": [
    "# Code Imports - Place here to ensure students don't miss it!\n",
    "import numpy as np\n",
    "import pandas as pd\n",
    "import random"
   ]
  },
  {
   "cell_type": "markdown",
   "metadata": {},
   "source": [
    "****\n",
    "## Topic 1:  Hash Functions\n",
    "Hash functions are considered very very (very!) important to cryptography today. Without repeating the lessons of the lecture, a hash function should have the following properties:\n",
    "- Collision Resistance - It should be computationally infeasible to find two different messages that hash to the same value. That is:\n",
    "```\n",
    "M = Message\n",
    "M' = Another Message\n",
    "M != M' (Messages are not the same)\n",
    "H() = Hash Function \n",
    "H(M) != H(M')\n",
    "```\n",
    "If `H(M) == H(M')`, it is possible to falseify the hash. Obviously, not a good thing!\n",
    "- Pre-image resistance - It should be computationally infeasible to determine the original message `M` given a hash function `H() `and a hashed message `H(M)`. Also known as _onewayness_\n",
    "- 2nd-pre-image resistance - Given the knowledge of a hash function `H()` and a message `M`, it should be computationally infeasible to find another message `M'` that will hash to the same value.\n",
    "\n",
    "A recent-ish paper is a good introduction to this: [Cryptographic Hash Functions: Recent Design Trends and Security Notions](https://eprint.iacr.org/2011/565.pdf).\n",
    "\n",
    "Other nice properties include:\n",
    "- A small change in the original message should yield a large change in the resulting hash so it seems unrelated completely to a similar message.\n",
    "\n",
    "Lets look at a quick comparsion to a regular encrpytion method:\n",
    "\n",
    "<img src=\"./img/hashing.png\" alt=\"Hashing Example\" style=\"width: 400px;\"/>\n",
    "\n",
    "Where we can encrypt and decrypt to get back to the original message, you don't have the same ability with hashing.\n",
    "\n",
    "Enough reading, lets get onto some questions\n",
    "\n",
    "*****"
   ]
  },
  {
   "cell_type": "markdown",
   "metadata": {},
   "source": [
    "## Question 1:  Hash Functions\n",
    "The following question is aimed to provide the properties of hash functions, and give you the ability to determine what could be wrong with other hash functions."
   ]
  },
  {
   "cell_type": "markdown",
   "metadata": {},
   "source": [
    "### Q1.1:  Hash Functions Properties\n",
    "With the knowledge of the above properties (and properties discussed in the lectures), check out Alex's custom hasing functions and provide information on what is wrong with the hash functions."
   ]
  },
  {
   "cell_type": "markdown",
   "metadata": {},
   "source": [
    "#### Q1.1.1\n",
    "What is wrong with the following hash function? Run it multiple times, and feel free to change the message."
   ]
  },
  {
   "cell_type": "code",
   "execution_count": 6,
   "metadata": {},
   "outputs": [
    {
     "name": "stdout",
     "output_type": "stream",
     "text": [
      "es4wgxaq\n"
     ]
    }
   ],
   "source": [
    "def hash1(message):\n",
    "    candidate_list = [chr(x) for x in range(ord('a'), ord('z') + 1)]  + [str(i) for i in range(0,9)]\n",
    "    hashed = ''.join([random.choice(candidate_list) for i in range(8)])\n",
    "    return hashed\n",
    "\n",
    "message = 'this is a short test string'\n",
    "print (hash1(message))"
   ]
  },
  {
   "cell_type": "raw",
   "metadata": {},
   "source": [
    "# Your Answer Here\n",
    "hash1 violates the deterministic property"
   ]
  },
  {
   "cell_type": "markdown",
   "metadata": {},
   "source": [
    "#### Q1.1.2\n",
    "What is wrong with the following hash function? Run it multiple times, and feel free to change the message."
   ]
  },
  {
   "cell_type": "code",
   "execution_count": 13,
   "metadata": {},
   "outputs": [
    {
     "name": "stdout",
     "output_type": "stream",
     "text": [
      "ojrq6rq616qj10o6oiqo6qo0rao\n"
     ]
    }
   ],
   "source": [
    "def hash2(message):\n",
    "    candidate_list = [chr(x) for x in range(ord('a'), ord('z') + 1)]  + [str(i) for i in range(0,9)]\n",
    "    return ''.join([candidate_list[hash(char)%35] for char in message])\n",
    "\n",
    "message = 'this is a short test string'\n",
    "print (hash2(message))"
   ]
  },
  {
   "cell_type": "raw",
   "metadata": {},
   "source": [
    "# Your Answer Here\n",
    "The output length is variable\n",
    "And hash2 violates pre-image resistantance (we can figure out the character mappings)"
   ]
  },
  {
   "cell_type": "markdown",
   "metadata": {},
   "source": [
    "#### Q1.1.3\n",
    "What is wrong with the following hash function? Run it multiple times, and feel free to change the message."
   ]
  },
  {
   "cell_type": "code",
   "execution_count": 17,
   "metadata": {},
   "outputs": [
    {
     "name": "stdout",
     "output_type": "stream",
     "text": [
      "ue70es4d\n"
     ]
    }
   ],
   "source": [
    "def hash3(message):\n",
    "    candidate_list = [chr(x) for x in range(ord('a'), ord('z') + 1)]  + [str(i) for i in range(0,9)]\n",
    "    splited = np.array_split(list(message), 8,axis=0)\n",
    "    hashed = ''.join([ candidate_list[ sum([ord(char) for char in chunk])%35] for chunk in splited])\n",
    "    return hashed\n",
    "\n",
    "message = 'this is a short test string'\n",
    "print (hash3(message))"
   ]
  },
  {
   "cell_type": "raw",
   "metadata": {},
   "source": [
    "# Your Answer Here\n",
    "hash3 violates collosion resistantance.\n",
    "We can easily come up with message pairs that hash to the same value."
   ]
  },
  {
   "cell_type": "markdown",
   "metadata": {},
   "source": [
    "### Q1.2:  Real Hash Functions\n",
    "Python is lovely with its packages, as we already have various hash functions to call and use.\n",
    "\n",
    "You have a number of tasks. Firstly:\n",
    "- Generate a hash of the message `this is a short test string` using the `md5`, `sha256`, and `black2b` hash functions in the [`hashlib` library](https://docs.python.org/3.7/library/hashlib.html)"
   ]
  },
  {
   "cell_type": "code",
   "execution_count": 20,
   "metadata": {},
   "outputs": [
    {
     "name": "stdout",
     "output_type": "stream",
     "text": [
      "md5 hash:  0af57bc31c06d32bb81e6c7171a1e51e\n",
      "sha256 hash:  db44d7adb45d2edaffd11d29d1f83a44308c26978a76f6d13ba99c28fbccfe53\n",
      "blake2b hash:  a13c9bff609acfac9225e0301b8dcbedd3715b29c6f5391a774dbda75997359f1ec45cda7fa63d1b88ab914bdc019717d39927d1f34cd2e17fa9fceee7e31759\n"
     ]
    }
   ],
   "source": [
    "# Your Code here\n",
    "# TODO, Import the hashlib library, and hash the message from the block above\n",
    "from hashlib import sha256\n",
    "from hashlib import md5\n",
    "from hashlib import blake2b\n",
    "\n",
    "msg = \"this is a short test string\"\n",
    "md5_hash = md5(msg.encode(\"UTF-8\")).hexdigest()\n",
    "sha_hash = sha256(message.encode(\"UTF-8\")).hexdigest()\n",
    "blake2b = blake2b(message.encode(\"UTF-8\")).hexdigest()\n",
    "\n",
    "print (\"md5 hash: \", md5_hash)\n",
    "print (\"sha256 hash: \", sha_hash)\n",
    "print (\"blake2b hash: \", blake2b)"
   ]
  },
  {
   "cell_type": "markdown",
   "metadata": {},
   "source": [
    "Now that you have the fuctions included, modify the message to prove to yourself that the functions hold to the properties we spoke about above. For each hash function, show:\n",
    "- The function is deterministic\n",
    "- The function is pre-iamge resistant\n",
    "- The function is collision resistant"
   ]
  },
  {
   "cell_type": "code",
   "execution_count": null,
   "metadata": {},
   "outputs": [],
   "source": [
    "# Your code here"
   ]
  },
  {
   "cell_type": "markdown",
   "metadata": {},
   "source": [
    "### Q1.3:  MD5 Collision\n",
    "Despite the previous question, it is widely considered to be insecure (various references exist for this, but for now we will use [this one](https://www.zdnet.com/article/a-quarter-of-major-cmss-use-outdated-md5-as-the-default-password-hashing-scheme/) and [this one](https://www.kb.cert.org/vuls/id/836068/)). \n",
    "\n",
    "Informally, a hashing function is **considered insecure when**: The attack method that can break the function takes less than 2<sup>n/2</sup> tries (where n is the length of the key).\n",
    "\n",
    "Now, we will provide this. We have included two files in the `data` folder. Using the hashlib library, hash the function using the md5 function and look at the resulting hashes. Open the files in a text editor to verify they are different messages."
   ]
  },
  {
   "cell_type": "code",
   "execution_count": 21,
   "metadata": {},
   "outputs": [
    {
     "name": "stdout",
     "output_type": "stream",
     "text": [
      "file 1:  39d9fae4c5233948bf014bc52f453e93\n",
      "file 2:  602de8f129e417a1e39e5ca55456b968\n"
     ]
    },
    {
     "data": {
      "text/plain": [
       "False"
      ]
     },
     "execution_count": 21,
     "metadata": {},
     "output_type": "execute_result"
    }
   ],
   "source": [
    "# Your Code here\n",
    "def hash_file(file):\n",
    "    with open(file, 'rb') as f:\n",
    "        return hashlib.md5(f.read()).hexdigest()\n",
    "file1 = './data/h1.ps'\n",
    "file2 = './data/h2.ps'\n",
    "print (\"file 1: \",hash_file(file1))\n",
    "print (\"file 2: \",hash_file(file2))\n",
    "hash_file(file1) == hash_file(file2) # Expecting to be True"
   ]
  },
  {
   "cell_type": "code",
   "execution_count": 22,
   "metadata": {},
   "outputs": [
    {
     "name": "stdout",
     "output_type": "stream",
     "text": [
      "a25f7f0b29ee0b3968c860738533a4b9\n",
      "a25f7f0b29ee0b3968c860738533a4b9\n"
     ]
    },
    {
     "data": {
      "text/plain": [
       "True"
      ]
     },
     "execution_count": 22,
     "metadata": {},
     "output_type": "execute_result"
    }
   ],
   "source": [
    "# If the above two files does not show collision, you can try downloading the letter_of_rec.ps and order.ps from the following resource \n",
    "# and check whether you can notice the collision\n",
    "# source: http://web.archive.org/web/20071226014140/http://www.cits.rub.de/MD5Collisions/\n",
    "import hashlib\n",
    "def hash_file(file):\n",
    "    with open(file, 'rb') as f:\n",
    "        return hashlib.md5(f.read()).hexdigest()\n",
    "file1 = './data/letter_of_rec.ps'\n",
    "file2 = './data/order.ps'\n",
    "print (hash_file(file1))\n",
    "print (hash_file(file2))\n",
    "hash_file(file1) == hash_file(file2) # violates collision resistance property (you also need to check whether the messages are different as well)\n",
    "\n",
    "# You can more examples like this in the following resource\n",
    "# https://crypto.stackexchange.com/questions/1434/are-there-two-known-strings-which-have-the-same-md5-hash-value"
   ]
  },
  {
   "cell_type": "markdown",
   "metadata": {},
   "source": [
    "Based on the properties above, what properties are violated here? What are the security implications for this issue? How can you mitigate this issue if you were using md5 in a workplace?"
   ]
  },
  {
   "cell_type": "raw",
   "metadata": {},
   "source": [
    "# Your answer here"
   ]
  },
  {
   "cell_type": "markdown",
   "metadata": {},
   "source": [
    "*****\n",
    "## Topic 2: Digital Signatures\n",
    "Alex received his rental agreement the other day to sign, and he was unsure of whether the real estate agent would know if he had actually signed the document, or whether someone signed it on his behalf. He didn't have time to visit the agent physically to sign the document, so how could they communicate that he had signed it in a trusted manner?\n",
    "\n",
    "Digital Signatures is the answer!\n",
    "\n",
    "Recall the digital signature method:\n",
    "\n",
    "<img src=\"./img/dsig.png\" alt=\"Dig Example\" style=\"width: 400px;\"/>\n",
    "<sub> Source: By FlippyFlink - https://en.wikipedia.org/wiki/File:Private_key_signing.svg, CC BY-SA 4.0, https://commons.wikimedia.org/w/index.php?curid=83220480 </sub>\n",
    "\n",
    "<br>\n",
    "This has been covered in detail in the lectures, so we will get onto implementing some signature methods"
   ]
  },
  {
   "cell_type": "markdown",
   "metadata": {},
   "source": [
    "****\n",
    "## Question 2: **Digital Signature**\n",
    "\n",
    "In Question 2, you will be dealing with two methods for implementing digital signatures: RSA Digital Signatures, and Hash Functions."
   ]
  },
  {
   "cell_type": "markdown",
   "metadata": {},
   "source": [
    "### Q2.1: Digital Signature with RSA\n",
    "\n",
    "We have already been introduced to RSA in the previous lab, so this functionality should be somewhat familar. If this is not familar, please revisit Lab10. We will be modifying the RSA code we used in the last lab to implement digital signature verification through RSA. \n",
    "\n",
    "Your task is as follows:\n",
    "1. Modify the `encrypt()` function such that it recieves the public key pair and a string, and encodes the string into a list of numbers (each number represents a character).\n",
    "2.  Modify the `decrypt()` function such that it recieves the private key pair and a list of numbers, and converts the number list into the original string.\n",
    "\n",
    "Hint: You can use ord(char) to convert a character into number in Python. "
   ]
  },
  {
   "cell_type": "code",
   "execution_count": 23,
   "metadata": {},
   "outputs": [],
   "source": [
    "\n",
    "def are_relatively_prime(a, b):\n",
    "    \"\"\"Return ``True`` if ``a`` and ``b`` are two relatively prime numbers.\n",
    "\n",
    "    Two numbers are relatively prime if they share no common factors,\n",
    "    i.e. there is no integer (except 1) that divides both.\n",
    "    \"\"\"\n",
    "    for n in range(2, min(a, b) + 1):\n",
    "        if a % n == b % n == 0:\n",
    "            return False\n",
    "    return True\n",
    "\n",
    "\n",
    "\n",
    "def generate_key_pair(p,q):\n",
    "\n",
    "    # Calculate N = p*q and r = (p-1)(q-1)\n",
    "    N = p*q \n",
    "    r = (p-1)*(q-1) \n",
    "    \n",
    "    # choose a random number e such that e < N and e and R share no common factors.\n",
    "    for cand in range(3, r, 2):\n",
    "        if are_relatively_prime(cand, r):\n",
    "            e = cand\n",
    "            break\n",
    "            \n",
    "    # calculate number d, such that ed mod (r) = 1\n",
    "    d = 0\n",
    "    for cand in range(3, r, 2):\n",
    "        if cand * e % r == 1:\n",
    "            d = cand\n",
    "            break     \n",
    "    \n",
    "    # return public key and private key pairs.\n",
    "    public_key = (N,e)\n",
    "    private_key = (N,d)\n",
    "    return public_key, private_key\n",
    "\n",
    "def encrypt(public_key, message):\n",
    "    # FIX ME\n",
    "    n, key = public_key\n",
    "    return [pow(ord(char),key,n) for char in message]\n",
    "\n",
    "def decrypt(private_key, message):\n",
    "    # FIX ME\n",
    "    # retrieve the original message\n",
    "    n, key = private_key\n",
    "    return  ''.join([chr(pow(char, key, n)) for char in message])\n",
    "\n"
   ]
  },
  {
   "cell_type": "markdown",
   "metadata": {},
   "source": [
    "Run the below block to test!"
   ]
  },
  {
   "cell_type": "code",
   "execution_count": 25,
   "metadata": {},
   "outputs": [
    {
     "name": "stdout",
     "output_type": "stream",
     "text": [
      "keys: (16575787, 3) (16575787, 11043387)\n",
      "Your digital signature works perfectly!\n"
     ]
    }
   ],
   "source": [
    "def get_primes(start, stop):\n",
    "    \"\"\"Return a list of prime numbers in ``range(start, stop)``.\"\"\"\n",
    "    if start >= stop:\n",
    "        return []\n",
    "\n",
    "    primes = [2]\n",
    "\n",
    "    for n in range(3, stop + 1, 2):\n",
    "        for p in primes:\n",
    "            if n % p == 0:\n",
    "                break\n",
    "        else:\n",
    "            primes.append(n)\n",
    "\n",
    "    while primes and primes[0] < start:\n",
    "        del primes[0]\n",
    "\n",
    "    return primes\n",
    "\n",
    "    \n",
    "def hashFunction(message):\n",
    "    hashed = sha256(message.encode(\"UTF-8\")).hexdigest()\n",
    "    return hashed\n",
    "\n",
    "\n",
    "primes_candidates = get_primes(1000,9999)\n",
    "p = random.choice(primes_candidates)\n",
    "q = random.choice(primes_candidates)\n",
    "public_key, private_key = generate_key_pair(p,q)\n",
    "print ('keys:', public_key, private_key)\n",
    "file_path = './data/script.txt'\n",
    "with open('./data/script.txt','r', encoding='utf-8') as script:\n",
    "    text = ''.join(script.readlines())\n",
    "\n",
    "text = hashFunction(text)\n",
    "\n",
    "encrypted = encrypt(private_key,text)\n",
    "decrypted = decrypt(public_key,encrypted)\n",
    "\n",
    "if decrypted != text:\n",
    "    print ('Your encryted file dose dot equal the original one')\n",
    "else:\n",
    "    print ('Your digital signature works perfectly!')"
   ]
  },
  {
   "cell_type": "markdown",
   "metadata": {},
   "source": [
    "### Q2.2: Digital Signature with Hash Functions \n",
    "While RSA is commonly used and considered (somewhat) secure, it is quite a hastle compared to using hash functions. We aim to show this now.\n",
    "\n",
    "Do the following with our completed RSA signature functions and hash functions in hashlib:\n",
    "1. create a text file and write something, save it locally.\n",
    "2. compute the hash of the file, record it in some place (write down, create another file, etc)\n",
    "3. generate a key pair with rsa algorithm\n",
    "3. use your private key to sign the hash of the file.\n",
    "4. send the original file, the public key and the signature to your friend, and let them verify your signature."
   ]
  },
  {
   "cell_type": "code",
   "execution_count": 26,
   "metadata": {},
   "outputs": [
    {
     "name": "stdout",
     "output_type": "stream",
     "text": [
      "keys: (13042391, 5) (13042391, 2606957)\n",
      "182e01077ed37d006c2c729b312bd3d5206c727195a226541556c616315e213a\n"
     ]
    },
    {
     "data": {
      "text/plain": [
       "True"
      ]
     },
     "execution_count": 26,
     "metadata": {},
     "output_type": "execute_result"
    }
   ],
   "source": [
    "# Code here\n",
    "# The following code is only sending across the hashed message \n",
    "# Also needs to send aross the original message to the recipient\n",
    "\n",
    "primes_candidates = get_primes(1000,9999)\n",
    "p = random.choice(primes_candidates)\n",
    "q = random.choice(primes_candidates)\n",
    "\n",
    "#3. generate a key pair with rsa algorithm\n",
    "public_key, private_key = generate_key_pair(p,q)#(5, 11) #(p,q)  # generating the key pair for the sender (Alice)\n",
    "print ('keys:', public_key, private_key)\n",
    "file_path = './data/script.txt'\n",
    "\n",
    "#1. create a text file and write something, save it locally.\n",
    "with open('./data/script.txt','r', encoding=\"utf8\") as script:\n",
    "    text = ''.join(script.readlines())\n",
    "    \n",
    "#text = 'a simple message'\n",
    "\n",
    "#2. compute the hash of the file, record it in some place (write down, create another file, etc)\n",
    "hashed_text = hashFunction(text) \n",
    "print(hashed_text)\n",
    "\n",
    "#4. use your private key to sign the hash of the file.\n",
    "encrypted = encrypt(private_key,hashed_text) #sign the hashed message with your private key\n",
    "\n",
    "#5. send the original file, the public key and the signature to your friend, and let them verify your signature.\n",
    "#THIS IS DONE BY THE RECEIVER\n",
    "#can your friend verify your signature with the original file, the public key and the encrypted message (signature)?\n",
    "decrypted = decrypt(public_key, encrypted) # this will retrieve the hash of the file (this make sure that the sender is authentic)\n",
    "\n",
    "# now your friend should hash the original message and see if it matches with the decrypted message (i.e. the hash of the file)\n",
    "hashed_text2 = hashFunction(text)\n",
    "\n",
    "decrypted == hashed_text2 # this would verify the signature \n"
   ]
  },
  {
   "cell_type": "markdown",
   "metadata": {},
   "source": [
    "*****"
   ]
  },
  {
   "cell_type": "markdown",
   "metadata": {},
   "source": [
    "## Homework & Extension Questions\n",
    "\n",
    "With the upcoming exam and time for revision, there will be no extra questions for this week. If you're looking for additional information, talk with your tutors. "
   ]
  },
  {
   "cell_type": "markdown",
   "metadata": {},
   "source": [
    "*****\n",
    "## Resources\n",
    "\n",
    "All the resources have been linked within each topic, so any extra resources can be found by following the link."
   ]
  }
 ],
 "metadata": {
  "kernelspec": {
   "display_name": "Python 3 (ipykernel)",
   "language": "python",
   "name": "python3"
  },
  "language_info": {
   "codemirror_mode": {
    "name": "ipython",
    "version": 3
   },
   "file_extension": ".py",
   "mimetype": "text/x-python",
   "name": "python",
   "nbconvert_exporter": "python",
   "pygments_lexer": "ipython3",
   "version": "3.7.11"
  }
 },
 "nbformat": 4,
 "nbformat_minor": 4
}
